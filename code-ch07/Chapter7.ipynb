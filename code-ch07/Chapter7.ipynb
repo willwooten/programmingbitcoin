{
 "cells": [
  {
   "cell_type": "code",
   "execution_count": 1,
   "metadata": {},
   "outputs": [],
   "source": [
    "############## PLEASE RUN THIS CELL FIRST! ###################\n",
    "\n",
    "# import everything and define a test runner function\n",
    "from importlib import reload\n",
    "from helper import run\n",
    "import ecc\n",
    "import helper\n",
    "import tx\n",
    "import script"
   ]
  },
  {
   "cell_type": "code",
   "execution_count": 74,
   "metadata": {},
   "outputs": [
    {
     "output_type": "stream",
     "name": "stdout",
     "text": [
      "40000\nTrue\n"
     ]
    }
   ],
   "source": [
    "from tx import Tx\n",
    "from io import BytesIO\n",
    "raw_tx = ('0100000001813f79011acb80925dfe69b3def355fe914bd1d96a3f5f71bf8303c6a989c7d1000000006b483045022100ed81ff192e75a3fd2304004dcadb746fa5e24c5031ccfcf21320b0277457c98f02207a986d955c6e0cb35d446a89d3f56100f4d7f67801c31967743a9c8e10615bed01210349fc4e631e3624a545de3f89f5d8684c7b8138bd94bdd531d2e213bf016b278afeffffff02a135ef01000000001976a914bc3b654dca7e56b04dca18f2566cdaf02e8d9ada88ac99c39800000000001976a9141c4bc762dd5423e332166702cb75f40df79fea1288ac19430600')\n",
    "stream = BytesIO(bytes.fromhex(raw_tx))\n",
    "transaction = Tx.parse(stream)\n",
    "#    def parse(cls, s, testnet=False):\n",
    "#        version = little_endian_to_int(s.read(4))\n",
    "#        num_inputs = read_varint(s)\n",
    "#        inputs = []\n",
    "#        for _ in range(num_inputs):\n",
    "#            inputs.append(TxIn.parse(s))\n",
    "#        num_outputs = read_varint(s)\n",
    "#        outputs = []\n",
    "#        for _ in range(num_outputs):\n",
    "#            outputs.append(TxOut.parse(s))\n",
    "#        locktime = little_endian_to_int(s.read(4))\n",
    "#        return cls(version, inputs, outputs, locktime, testnet=testnet)\n",
    "# print(transaction)\n",
    "# tx: 452c629d67e41baec3ac6f04fe744b4b9617f8f859c63b3002f8684e7a4fee03\n",
    "# version: 1\n",
    "# tx_ins:\n",
    "# d1c789a9c60383bf715f3f6ad9d14b91fe55f3deb369fe5d9280cb1a01793f81:0\n",
    "# tx_outs:\n",
    "# 32454049:OP_DUP OP_HASH160 bc3b654dca7e56b04dca18f2566cdaf02e8d9ada OP_EQUALVERIFY OP_CHECKSIG\n",
    "# 10011545:OP_DUP OP_HASH160 1c4bc762dd5423e332166702cb75f40df79fea12 OP_EQUALVERIFY OP_CHECKSIG\n",
    "# locktime: 410393\n",
    "\n",
    "#     def fee(self):\n",
    "#         '''Returns the fee of this transaction in satoshi'''\n",
    "# input_sum, output_sum = 0, 0\n",
    "# for tx_in in transaction.tx_ins:\n",
    "#     input_sum += tx_in.value('https://blockstream.info/api')\n",
    "# print(input_sum)\n",
    "# 42505594\n",
    "\n",
    "# for tx_out in transaction.tx_outs:\n",
    "#     output_sum += tx_out.amount\n",
    "# print(output_sum)\n",
    "# 42465594\n",
    "# return input_sum - output_sum\n",
    "print(transaction.fee())\n",
    "print(transaction.fee() >= 0)"
   ]
  },
  {
   "cell_type": "code",
   "execution_count": 75,
   "metadata": {},
   "outputs": [
    {
     "output_type": "stream",
     "name": "stdout",
     "text": [
      "True\n"
     ]
    }
   ],
   "source": [
    "from ecc import S256Point, Signature\n",
    "sec = bytes.fromhex('0349fc4e631e3624a545de3f89f5d8684c7b8138bd94bdd531d2e213bf016b278a')\n",
    "der = bytes.fromhex('3045022100ed81ff192e75a3fd2304004dcadb746fa5e24c5031ccfcf21320b0277457c98f02207a986d955c6e0cb35d446a89d3f56100f4d7f67801c31967743a9c8e10615bed')\n",
    "z = 0x27e0c5994dec7824e56dec6b2fcb342eb7cdb0d0957c2fce9882f715e85d81a6\n",
    "point = S256Point.parse(sec)\n",
    "signature = Signature.parse(der)\n",
    "print(point.verify(z, signature))"
   ]
  },
  {
   "cell_type": "code",
   "execution_count": 76,
   "metadata": {},
   "outputs": [
    {
     "output_type": "stream",
     "name": "stdout",
     "text": [
      "0x27e0c5994dec7824e56dec6b2fcb342eb7cdb0d0957c2fce9882f715e85d81a6\n"
     ]
    }
   ],
   "source": [
    "from helper import hash256\n",
    "modified_tx = bytes.fromhex('0100000001813f79011acb80925dfe69b3def355fe914bd1d96a3f5f71bf8303c6a989c7d1000000001976a914a802fc56c704ce87c42d7c92eb75e7896bdc41ae88acfeffffff02a135ef01000000001976a914bc3b654dca7e56b04dca18f2566cdaf02e8d9ada88ac99c39800000000001976a9141c4bc762dd5423e332166702cb75f40df79fea1288ac1943060001000000')\n",
    "h256 = hash256(modified_tx)\n",
    "z = int.from_bytes(h256, 'big')\n",
    "print(hex(z))"
   ]
  },
  {
   "cell_type": "code",
   "execution_count": 77,
   "metadata": {},
   "outputs": [
    {
     "output_type": "execute_result",
     "data": {
      "text/plain": [
       "True"
      ]
     },
     "metadata": {},
     "execution_count": 77
    }
   ],
   "source": [
    "from ecc import S256Point, Signature\n",
    "sec = bytes.fromhex('0349fc4e631e3624a545de3f89f5d8684c7b8138bd94bdd531d2e213bf016b278a')\n",
    "der = bytes.fromhex('3045022100ed81ff192e75a3fd2304004dcadb746fa5e24c5031ccfcf21320b0277457c98f02207a986d955c6e0cb35d446a89d3f56100f4d7f67801c31967743a9c8e10615bed')\n",
    "z = 0x27e0c5994dec7824e56dec6b2fcb342eb7cdb0d0957c2fce9882f715e85d81a6\n",
    "point = S256Point.parse(sec)\n",
    "signature = Signature.parse(der)\n",
    "point.verify(z, signature)"
   ]
  },
  {
   "cell_type": "markdown",
   "metadata": {},
   "source": [
    "### Exercise 1\n",
    "\n",
    "Write the `sig_hash` method for the `Tx` class.\n",
    "\n",
    "#### Make [this test](/edit/code-ch07/tx.py) pass: `tx.py:TxTest:test_sig_hash`"
   ]
  },
  {
   "cell_type": "code",
   "execution_count": 78,
   "metadata": {},
   "outputs": [
    {
     "output_type": "stream",
     "name": "stderr",
     "text": [
      ".\n",
      "----------------------------------------------------------------------\n",
      "Ran 1 test in 0.001s\n",
      "\n",
      "OK\n"
     ]
    }
   ],
   "source": [
    "# Exercise 1\n",
    "\n",
    "reload(tx)\n",
    "run(tx.TxTest(\"test_sig_hash\"))"
   ]
  },
  {
   "cell_type": "markdown",
   "metadata": {},
   "source": [
    "### Exercise 2\n",
    "\n",
    "Write the `verify_input` method for the `Tx` class. You will want to use the `TxIn.script_pubkey()`, `Tx.sig_hash()` and `Script.evaluate()` methods.\n",
    "\n",
    "#### Make [this test](/edit/code-ch07/tx.py) pass: `tx.py:TxTest:test_verify_p2pkh`"
   ]
  },
  {
   "cell_type": "code",
   "execution_count": 86,
   "metadata": {},
   "outputs": [
    {
     "output_type": "stream",
     "name": "stderr",
     "text": [
      ".\n",
      "----------------------------------------------------------------------\n",
      "Ran 1 test in 0.203s\n",
      "\n",
      "OK\n"
     ]
    }
   ],
   "source": [
    "# Exercise 2\n",
    "\n",
    "reload(tx)\n",
    "run(tx.TxTest(\"test_verify_p2pkh\"))"
   ]
  },
  {
   "cell_type": "code",
   "execution_count": 119,
   "metadata": {},
   "outputs": [
    {
     "output_type": "stream",
     "name": "stdout",
     "text": [
      "tx: cd30a8da777d28ef0e61efe68a9f7c559c1d3e5bcd7b265c850ccb4068598d11\nversion: 1\ntx_ins:\n0d6fe5213c0b3291f208cba8bfb59b7476dffacc4e5cb66f6eb20a080843a299:13\ntx_outs:\n33000000:OP_DUP OP_HASH160 d52ad7ca9b3d096a38e752c2018e6fbc40cdf26f OP_EQUALVERIFY OP_CHECKSIG\n10000000:OP_DUP OP_HASH160 507b27411ccf7f16f10297de6cef3f291623eddf OP_EQUALVERIFY OP_CHECKSIG\nlocktime: 0\n"
     ]
    }
   ],
   "source": [
    "# decode_base58: We need a way to take an address and get the 20-byte hash out of it\n",
    "from helper import decode_base58, SIGHASH_ALL\n",
    "from script import p2pkh_script, Script\n",
    "from tx import TxIn, TxOut, Tx\n",
    "\n",
    "prev_tx = bytes.fromhex('0d6fe5213c0b3291f208cba8bfb59b7476dffacc4e5cb66f6eb20a080843a299')\n",
    "# print(prev_tx)\n",
    "# b'\\ro\\xe5!<\\x0b2\\x91\\xf2\\x08\\xcb\\xa8\\xbf\\xb5\\x9btv\\xdf\\xfa\\xccN\\\\\\xb6on\\xb2\\n\\x08\\x08C\\xa2\\x99'\n",
    "\n",
    "prev_index = 13\n",
    "\n",
    "tx_in = TxIn(prev_tx, prev_index)\n",
    "# print(tx_in)\n",
    "# 0d6fe5213c0b3291f208cba8bfb59b7476dffacc4e5cb66f6eb20a080843a299:13\n",
    "\n",
    "tx_outs = []\n",
    "\n",
    "# The amount must be in satoshis; given there are 100,000,000 satoshis per BTC, we have to multiply and cast to an integer.\n",
    "change_amount = int(0.33*100000000)\n",
    "# print(change_amount)\n",
    "# 33000000\n",
    "\n",
    "# We get what number is encoded in this Base58 address.\n",
    "# Once we have the number, we convert it to big-endian bytes.\n",
    "# The first byte is the network prefix and the last 4 are the checksum. The middle 20 are the actual 20-byte hash (aka hash160).\n",
    "change_h160 = decode_base58('mzx5YhAH9kNHtcN481u6WkjeHjYtVeKVh2')\n",
    "# print(change_h160)\n",
    "# b'\\xd5*\\xd7\\xca\\x9b=\\tj8\\xe7R\\xc2\\x01\\x8eo\\xbc@\\xcd\\xf2o'\n",
    "\n",
    "change_script = p2pkh_script(change_h160)\n",
    "# print(change_script)\n",
    "# OP_DUP OP_HASH160 d52ad7ca9b3d096a38e752c2018e6fbc40cdf26f OP_EQUALVERIFY OP_CHECKSIG\n",
    "\n",
    "change_output = TxOut(amount=change_amount, script_pubkey=change_script)\n",
    "# print(change_output)\n",
    "# 33000000:OP_DUP OP_HASH160 d52ad7ca9b3d096a38e752c2018e6fbc40cdf26f OP_EQUALVERIFY OP_CHECKSIG\n",
    "\n",
    "target_amount = int(0.1*100000000)\n",
    "# print(target_amount)\n",
    "# 10000000\n",
    "\n",
    "target_h160 = decode_base58('mnrVtF8DWjMu839VW3rBfgYaAfKk8983Xf')\n",
    "# print(target_h160)\n",
    "# b\"P{'A\\x1c\\xcf\\x7f\\x16\\xf1\\x02\\x97\\xdel\\xef?)\\x16#\\xed\\xdf\"\n",
    "\n",
    "target_script = p2pkh_script(target_h160)\n",
    "# print(target_script)\n",
    "# OP_DUP OP_HASH160 507b27411ccf7f16f10297de6cef3f291623eddf OP_EQUALVERIFY OP_CHECKSIG\n",
    "\n",
    "target_output = TxOut(amount=target_amount, script_pubkey=target_script)\n",
    "# print(target_output)\n",
    "# 10000000:OP_DUP OP_HASH160 507b27411ccf7f16f10297de6cef3f291623eddf OP_EQUALVERIFY OP_CHECKSIG\n",
    "\n",
    "# We have to designate which network to look up using the testnet=True argument.\n",
    "tx_obj = Tx(1, [tx_in], [change_output, target_output], 0, True)\n",
    "\n",
    "# We have created the actual transaction, but every ScriptSig in this transaction is currently empty. Filling it is where we turn next.\n",
    "print(tx_obj)"
   ]
  },
  {
   "cell_type": "code",
   "execution_count": 183,
   "metadata": {},
   "outputs": [
    {
     "output_type": "stream",
     "name": "stdout",
     "text": [
      "0100000001813f79011acb80925dfe69b3def355fe914bd1d96a3f5f71bf8303c6a989c7d1000000006a47304402207db2402a3311a3b845b038885e3dd889c08126a8570f26a844e3e4049c482a11022010178cdca4129eacbeab7c44648bf5ac1f9cac217cd609d216ec2ebc8d242c0a012103935581e52c354cd2f484fe8ed83af7a3097005b2f9c60bff71d35bd795f54b67feffffff02a135ef01000000001976a914bc3b654dca7e56b04dca18f2566cdaf02e8d9ada88ac99c39800000000001976a9141c4bc762dd5423e332166702cb75f40df79fea1288ac19430600\n"
     ]
    }
   ],
   "source": [
    "from ecc import PrivateKey\n",
    "from helper import SIGHASH_ALL\n",
    "\n",
    "# If we have the private key whose public key hash160s to the 20-byte hash in the ScriptPubKey, we can sign z and produce the DER signature\n",
    "# tx.py def sig_hash(self, input_index):\n",
    "z = transaction.sig_hash(0)\n",
    "# print(transaction)\n",
    "# tx: 3fad891a9d0deda19862a073d35611d57089377adb4585e6c457bcb0f4470821\n",
    "# version: 1\n",
    "# tx_ins:\n",
    "# d1c789a9c60383bf715f3f6ad9d14b91fe55f3deb369fe5d9280cb1a01793f81:0\n",
    "# tx_outs:\n",
    "# 32454049:OP_DUP OP_HASH160 bc3b654dca7e56b04dca18f2566cdaf02e8d9ada OP_EQUALVERIFY OP_CHECKSIG\n",
    "# 10011545:OP_DUP OP_HASH160 1c4bc762dd5423e332166702cb75f40df79fea12 OP_EQUALVERIFY OP_CHECKSIG\n",
    "# locktime: 410393\n",
    "#print(z)\n",
    "# 18037338614366229343027734445863508930887653120159589908930024158807354868134\n",
    "\n",
    "private_key = PrivateKey(secret=8675309)\n",
    "# print(private_key)\n",
    "# print(encode_base58_checksum(private_key))\n",
    "# def encode_base58(s) return prefix + result\n",
    "# def encode_base58_checksum(s) return encode_base58(s + hash256(s)[:4])\n",
    "    \n",
    "# print(private_key.sign(z))\n",
    "# Signature(7db2402a3311a3b845b038885e3dd889c08126a8570f26a844e3e4049c482a11,10178cdca4129eacbeab7c44648bf5ac1f9cac217cd609d216ec2ebc8d242c0a)\n",
    "der = private_key.sign(z).der()\n",
    "# print(der)\n",
    "# b'0D\\x02 }\\xb2@*3\\x11\\xa3\\xb8E\\xb08\\x88^=\\xd8\\x89\\xc0\\x81&\\xa8W\\x0f&\\xa8D\\xe3\\xe4\\x04\\x9cH*\\x11\\x02 \\x10\\x17\\x8c\\xdc\\xa4\\x12\\x9e\\xac\\xbe\\xab|Dd\\x8b\\xf5\\xac\\x1f\\x9c\\xac!|\\xd6\\t\\xd2\\x16\\xec.\\xbc\\x8d$,\\n'\n",
    "\n",
    "# SIGHASH_ALL = 1\n",
    "sig = der + SIGHASH_ALL.to_bytes(1, 'big')\n",
    "# print(sig)\n",
    "# b'0D\\x02 }\\xb2@*3\\x11\\xa3\\xb8E\\xb08\\x88^=\\xd8\\x89\\xc0\\x81&\\xa8W\\x0f&\\xa8D\\xe3\\xe4\\x04\\x9cH*\\x11\\x02 \\x10\\x17\\x8c\\xdc\\xa4\\x12\\x9e\\xac\\xbe\\xab|Dd\\x8b\\xf5\\xac\\x1f\\x9c\\xac!|\\xd6\\t\\xd2\\x16\\xec.\\xbc\\x8d$,\\n\\x01'\n",
    "\n",
    "sec = private_key.point.sec()\n",
    "# print(sec)\n",
    "# b'\\x03\\x93U\\x81\\xe5,5L\\xd2\\xf4\\x84\\xfe\\x8e\\xd8:\\xf7\\xa3\\tp\\x05\\xb2\\xf9\\xc6\\x0b\\xffq\\xd3[\\xd7\\x95\\xf5Kg'\n",
    "\n",
    "script_sig = Script([sig, sec])\n",
    "# print(script_sig)\n",
    "# 304402207db2402a3311a3b845b038885e3dd889c08126a8570f26a844e3e4049c482a11022010178cdca4129eacbeab7c44648bf5ac1f9cac217cd609d216ec2ebc8d242c0a01 03935581e52c354cd2f484fe8ed83af7a3097005b2f9c60bff71d35bd795f54b67\n",
    "\n",
    "transaction.tx_ins[0].script_sig = script_sig \n",
    "print(transaction.serialize().hex())"
   ]
  },
  {
   "cell_type": "code",
   "execution_count": 184,
   "metadata": {},
   "outputs": [
    {
     "output_type": "stream",
     "name": "stdout",
     "text": [
      "mn81594PzKZa9K3Jyy1ushpuEzrnTnxhVg\n"
     ]
    }
   ],
   "source": [
    "from ecc import PrivateKey\n",
    "from helper import hash256, little_endian_to_int\n",
    "secret = little_endian_to_int(hash256(b'Jimmy Song secret'))\n",
    "private_key = PrivateKey(secret)\n",
    "print(private_key.point.address(testnet=True))"
   ]
  },
  {
   "cell_type": "markdown",
   "metadata": {},
   "source": [
    "### Exercise 3\n",
    "\n",
    "Write the `sign_input` method for the `Tx` class.\n",
    "\n",
    "#### Make [this test](/edit/code-ch07/tx.py) pass: `tx.py:TxTest:test_sign_input`"
   ]
  },
  {
   "cell_type": "code",
   "execution_count": 185,
   "metadata": {},
   "outputs": [
    {
     "output_type": "stream",
     "name": "stderr",
     "text": [
      "E\n",
      "======================================================================\n",
      "ERROR: test_sign_input (tx.TxTest)\n",
      "----------------------------------------------------------------------\n",
      "Traceback (most recent call last):\n",
      "  File \"/home/wwooten/programmingbitcoin/code-ch07/tx.py\", line 431, in test_sign_input\n",
      "    self.assertTrue(tx_obj.sign_input(0, private_key))\n",
      "  File \"/home/wwooten/programmingbitcoin/code-ch07/tx.py\", line 234, in sign_input\n",
      "    raise NotImplementedError\n",
      "NotImplementedError\n",
      "\n",
      "----------------------------------------------------------------------\n",
      "Ran 1 test in 0.008s\n",
      "\n",
      "FAILED (errors=1)\n"
     ]
    }
   ],
   "source": [
    "# Exercise 3\n",
    "\n",
    "reload(tx)\n",
    "run(tx.TxTest(\"test_sign_input\"))"
   ]
  },
  {
   "cell_type": "markdown",
   "metadata": {},
   "source": [
    "### Exercise 4\n",
    "\n",
    "Create a testnet transaction that sends 60% of a single UTXO to `mwJn1YPMq7y5F8J3LkC5Hxg9PHyZ5K4cFv`. The remaining amount minus fees should go back to your own change address. This should be a 1 input, 2 output transaction.\n",
    "\n",
    "You can broadcast the transaction at https://testnet.blockchain.info/pushtx"
   ]
  },
  {
   "cell_type": "code",
   "execution_count": 186,
   "metadata": {},
   "outputs": [],
   "source": [
    "# Exercise 4\n",
    "\n",
    "from ecc import PrivateKey\n",
    "from helper import decode_base58, SIGHASH_ALL\n",
    "from script import p2pkh_script, Script\n",
    "from tx import TxIn, TxOut, Tx\n",
    "\n",
    "# create 1 TxIn and 2 TxOuts\n",
    "# 1 of the TxOuts should be back to your address\n",
    "# the other TxOut should be to this address\n",
    "target_address = 'mwJn1YPMq7y5F8J3LkC5Hxg9PHyZ5K4cFv'\n",
    "\n",
    "# get the private key from the exercise in Chapter 4\n",
    "# change address should be the address generated from Chapter 4\n",
    "\n",
    "# get the prev_tx and prev_index from the transaction where you got\n",
    "# some testnet coins\n",
    "# create a transaction input for the previous transaction with\n",
    "# the default ScriptSig and sequence\n",
    "\n",
    "# target amount should be 60% of the output amount\n",
    "# set the fee to some reasonable amount\n",
    "# change amount = amount from the prev tx - target amount - fee\n",
    "\n",
    "# create a transaction output for the target amount and address\n",
    "# create a transaction output for the change amount and address\n",
    "# create the transaction object\n",
    "\n",
    "# sign the one input in the transaction object using the private key\n",
    "# print the transaction's serialization in hex\n",
    "# broadcast at http://testnet.blockchain.info/pushtx"
   ]
  },
  {
   "cell_type": "markdown",
   "metadata": {},
   "source": [
    "### Exercise 5\n",
    "\n",
    "Advanced: get some more testnet coins from a testnet faucet and create a 2 input, 1 output transaction. 1 input should be from the faucet, the other should be from the previous exercise, the output can be your own address.\n",
    "\n",
    "You can broadcast the transaction at https://testnet.blockchain.info/pushtx"
   ]
  },
  {
   "cell_type": "code",
   "execution_count": 187,
   "metadata": {},
   "outputs": [],
   "source": [
    "# Exercise 5\n",
    "\n",
    "from ecc import PrivateKey\n",
    "from helper import decode_base58, SIGHASH_ALL\n",
    "from script import p2pkh_script, Script\n",
    "from tx import TxIn, TxOut, Tx\n",
    "\n",
    "# Create 2 TxIns, 1 from the Exercise 4 and 1 from a testnet faucet\n",
    "# Creat 1 TxOut to the address above\n",
    "target_address = 'mwJn1YPMq7y5F8J3LkC5Hxg9PHyZ5K4cFv'\n",
    "\n",
    "# get the private key from the exercise in Chapter 4\n",
    "\n",
    "# get the prev_tx and prev_index from the transaction where you got\n",
    "# some testnet coins\n",
    "# create the first transaction input with the default ScriptSig and\n",
    "# sequence\n",
    "# get the prev_tx and prev_index from the transaction in Exercise 4\n",
    "# create the second transaction input with the default ScriptSig and\n",
    "# sequence\n",
    "\n",
    "# set the fee to some reasonable amount\n",
    "# target amount should be the sum of the inputs - fee\n",
    "\n",
    "# create a transaction output for the amount and address\n",
    "\n",
    "# sign the first input using the private key\n",
    "# sign the second input using the private key \n",
    "# print the transaction's serialization in hex\n",
    "# broadcast at http://testnet.blockchain.info/pushtx"
   ]
  }
 ],
 "metadata": {
  "kernelspec": {
   "name": "python385jvsc74a57bd031f2aee4e71d21fbe5cf8b01ff0e069b9275f58929596ceb00d14d90e3e16cd6",
   "display_name": "Python 3.8.5 64-bit"
  }
 },
 "nbformat": 4,
 "nbformat_minor": 2
}